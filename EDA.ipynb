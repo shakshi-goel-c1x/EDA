{
 "cells": [
  {
   "cell_type": "markdown",
   "metadata": {},
   "source": [
    "### IMPORTING THE PACKAGES"
   ]
  },
  {
   "cell_type": "code",
   "execution_count": 4,
   "metadata": {},
   "outputs": [],
   "source": [
    "# importing the packages\n",
    "%matplotlib inline      \n",
    "import matplotlib.pyplot as plt\n",
    "from matplotlib.pyplot import figure\n",
    "import pandas as pd\n",
    "import numpy as np\n",
    "import seaborn as sns\n",
    "import pandas_profiling"
   ]
  },
  {
   "cell_type": "markdown",
   "metadata": {},
   "source": [
    "### READING THE DATASETS"
   ]
  },
  {
   "cell_type": "code",
   "execution_count": 5,
   "metadata": {},
   "outputs": [],
   "source": [
    "# reading the datasets\n",
    "impression = pd.read_csv('172.31.4.99_jsonimpr.log.csv')\n",
    "capacity = pd.read_csv('172.31.4.99_jsoncapacity.log.csv')\n",
    "click = pd.read_csv('172.31.4.99_jsonclick.log.csv')\n",
    "pixel_shopclues = pd.read_csv('pixel_json_shopclues-2019-06-07-09_01_06.csv')\n",
    "pixel = pd.read_csv('pixel_json-2019-06-07-09_00_23.csv')"
   ]
  },
  {
   "cell_type": "markdown",
   "metadata": {},
   "source": [
    "### STATISTICAL REPORT OF EACH OF THE DATASETS"
   ]
  },
  {
   "cell_type": "code",
   "execution_count": null,
   "metadata": {},
   "outputs": [],
   "source": [
    "pandas_profiling.ProfileReport(impression)\n",
    "#pandas_profiling.ProfileReport(impression)\n",
    "#pandas_profiling.ProfileReport(impression)\n",
    "#pandas_profiling.ProfileReport(impression)"
   ]
  },
  {
   "cell_type": "markdown",
   "metadata": {},
   "source": [
    "### LOOKING AT THE BASIC STRUCTURE OF THE DATASETS"
   ]
  },
  {
   "cell_type": "code",
   "execution_count": null,
   "metadata": {},
   "outputs": [],
   "source": [
    "# getting the number of rows and columns in the impression dataset\n",
    "impression.shape"
   ]
  },
  {
   "cell_type": "code",
   "execution_count": null,
   "metadata": {},
   "outputs": [],
   "source": [
    "# listing the different column names in the impression dataset\n",
    "list(impression)"
   ]
  },
  {
   "cell_type": "code",
   "execution_count": null,
   "metadata": {},
   "outputs": [],
   "source": [
    "# fetching the first 5 rows of the impression dataset\n",
    "impression.head()"
   ]
  },
  {
   "cell_type": "code",
   "execution_count": null,
   "metadata": {},
   "outputs": [],
   "source": [
    "# fetching the last 5 rows of the impression dataset\n",
    "impression.tail()"
   ]
  },
  {
   "cell_type": "markdown",
   "metadata": {},
   "source": [
    "### SUMMARIZATION OF INDIVIDUAL VARIABLES:\n",
    "1)MEASURES OF CENTRAL DEPENDENCY\n",
    "2)MEASURES OF DISPERSION"
   ]
  },
  {
   "cell_type": "code",
   "execution_count": null,
   "metadata": {},
   "outputs": [],
   "source": [
    "# getting the measures of central dependency (mean, mode, median) \n",
    "# and measures of dispersion (interquartile range, range, standard deviation) \n",
    "# of all the columns in the impression dataset\n",
    "impression.describe(include='all')"
   ]
  },
  {
   "cell_type": "markdown",
   "metadata": {},
   "source": [
    "### CHECKING FOR UNIQUE VALUES"
   ]
  },
  {
   "cell_type": "code",
   "execution_count": null,
   "metadata": {},
   "outputs": [],
   "source": [
    "# returns the count of unique values in each column of the impression dataset\n",
    "impression.nunique()"
   ]
  },
  {
   "cell_type": "markdown",
   "metadata": {},
   "source": [
    "## DATA CLEANING "
   ]
  },
  {
   "cell_type": "markdown",
   "metadata": {},
   "source": [
    "### 1)CHECKING FOR NULL VALUES"
   ]
  },
  {
   "cell_type": "code",
   "execution_count": null,
   "metadata": {},
   "outputs": [],
   "source": [
    "# finds the number of null values in each column of the impression dataset\n",
    "impression.isnull().sum()"
   ]
  },
  {
   "cell_type": "markdown",
   "metadata": {},
   "source": [
    "### 2)REMOVING IRRELEVANT DATA"
   ]
  },
  {
   "cell_type": "code",
   "execution_count": null,
   "metadata": {},
   "outputs": [],
   "source": [
    "# required columns of the dataset can be selected\n",
    "d = impression[['CID', 'UUID']]\n",
    "print(d)\n",
    "d = pd.DataFrame(d)"
   ]
  },
  {
   "cell_type": "markdown",
   "metadata": {},
   "source": [
    "## DATA PROCESSING"
   ]
  },
  {
   "cell_type": "code",
   "execution_count": null,
   "metadata": {},
   "outputs": [],
   "source": [
    "# grouping the new dataframe based on CID\n",
    "impr = d.groupby(d.CID)\n",
    "for i in impr:\n",
    "    print(i)"
   ]
  },
  {
   "cell_type": "code",
   "execution_count": null,
   "metadata": {},
   "outputs": [],
   "source": [
    "# applying lambda function to group unique UUIDs into a list per CID\n",
    "category = impr.apply(lambda x:x['UUID'].unique())\n",
    "category = pd.DataFrame(category)\n",
    "print(category)"
   ]
  },
  {
   "cell_type": "code",
   "execution_count": null,
   "metadata": {},
   "outputs": [],
   "source": [
    "# creating a dictionary with CID as key and count of unique UUIDs as value\n",
    "top = {}\n",
    "for index,row in category.iterrows():\n",
    "    top.update({index:0})\n",
    "    for i in row:\n",
    "        c = len(i)\n",
    "    top[index]=c\n",
    "        \n",
    "print(top)"
   ]
  },
  {
   "cell_type": "code",
   "execution_count": null,
   "metadata": {},
   "outputs": [],
   "source": [
    "# sorting the dictionary based on the number of unique UUIDs per CID, in non-increasing order\n",
    "def sortSecond(val): \n",
    "    return val[1]  \n",
    "topCategory = [ [k,v] for k, v in top.items() ]\n",
    "topCategory.sort(key = sortSecond, reverse=True)  \n",
    "print(topCategory) "
   ]
  },
  {
   "cell_type": "code",
   "execution_count": null,
   "metadata": {},
   "outputs": [],
   "source": [
    "# printing the top 10 CIDs with max number of unique UUIDs\n",
    "for i in range(10):\n",
    "    print(topCategory[i])"
   ]
  },
  {
   "cell_type": "code",
   "execution_count": null,
   "metadata": {},
   "outputs": [],
   "source": [
    "# converting the format of the dictionary topCategory\n",
    "df  = {'CID': [], 'UUID': []}\n",
    "for i in topCategory:\n",
    "    df['CID'].append(i[0])\n",
    "    df['UUID'].append(i[1])\n",
    "print(df)"
   ]
  },
  {
   "cell_type": "code",
   "execution_count": null,
   "metadata": {},
   "outputs": [],
   "source": [
    "# converting the dictionary to a DataFrame\n",
    "df = pd.DataFrame(df)\n",
    "print(df)"
   ]
  },
  {
   "cell_type": "code",
   "execution_count": null,
   "metadata": {},
   "outputs": [],
   "source": [
    "# extracting the top 5 categories\n",
    "n = df.head()\n",
    "print(n)"
   ]
  },
  {
   "cell_type": "markdown",
   "metadata": {},
   "source": [
    "## DATA VISUALISATION"
   ]
  },
  {
   "cell_type": "markdown",
   "metadata": {},
   "source": [
    "### VISUALISATION 1"
   ]
  },
  {
   "cell_type": "code",
   "execution_count": null,
   "metadata": {
    "scrolled": true
   },
   "outputs": [],
   "source": [
    "# plotting the number of unique users w.r.t. CID \n",
    "y_pos = np.arange(len(n['CID']))\n",
    "plt.bar(y_pos,n['UUID'])\n",
    "plt.xticks(y_pos, n['CID'],fontsize=10)\n",
    "plt.yticks(fontsize=10)\n",
    "plt.xlabel('CID',fontsize=10)\n",
    "plt.ylabel('No. of unique UUIDs',fontsize=10)\n",
    "plt.title('Top 5 Categories',fontsize=20)\n",
    "plt.show()"
   ]
  },
  {
   "cell_type": "markdown",
   "metadata": {},
   "source": [
    "### VISUALISATION 2"
   ]
  },
  {
   "cell_type": "code",
   "execution_count": null,
   "metadata": {},
   "outputs": [],
   "source": [
    "# plotting number of users for each channel\n",
    "impression['CH'].value_counts().plot.bar(title=\"Freq dist of Channel Type\")\n",
    "plt.xlabel('Channel',fontsize=10)\n",
    "plt.ylabel('No. of users',fontsize=10)"
   ]
  },
  {
   "cell_type": "markdown",
   "metadata": {},
   "source": [
    "### VISUALISATION 3"
   ]
  },
  {
   "cell_type": "code",
   "execution_count": null,
   "metadata": {},
   "outputs": [],
   "source": [
    "# getting the correlation matrix \n",
    "f, ax = plt.subplots(figsize=(6, 6))\n",
    "corr = impression.drop(['AdvPixelId','AccountID'],axis=1).corr()\n",
    "sns.heatmap(corr, xticklabels=corr.columns.values, yticklabels=corr.columns.values,cmap='gist_heat')"
   ]
  },
  {
   "cell_type": "markdown",
   "metadata": {},
   "source": [
    "### VISUALISATION 4"
   ]
  },
  {
   "cell_type": "code",
   "execution_count": null,
   "metadata": {},
   "outputs": [],
   "source": [
    "# selecting seen and ts column from pixel_shopclues log to find how many new users have been discovered\n",
    "d = pixel_shopclues[['seen', 'ts']]\n",
    "print(d)\n",
    "d = pd.DataFrame(d)"
   ]
  },
  {
   "cell_type": "code",
   "execution_count": null,
   "metadata": {},
   "outputs": [],
   "source": [
    "#Converting unix time stamp into readable date.\n",
    "from datetime import datetime\n",
    "y = pixel_shopclues.iloc[:,22]\n",
    "y = list(y)\n",
    "for i in range(len(y)):\n",
    "    y[i] /=1000\n",
    "    # if you encounter a \"year is out of range\" error the timestamp    # may be in milliseconds, try `ts /= 1000` in that case\n",
    "    y[i] = datetime.utcfromtimestamp(y[i]).strftime('%Y-%m-%d %H:%M:%S')\n",
    "print(y)"
   ]
  },
  {
   "cell_type": "code",
   "execution_count": null,
   "metadata": {},
   "outputs": [],
   "source": [
    "#Counting number of users discovered between a timestamp\n",
    "tsb = input(\"Enter the start date in yyyy-mm-dd hh:mm:ss\")\n",
    "tse = input(\"Enter the end date in yyyy-mm-dd hh:mm:ss\")\n",
    "X = pixel_shopclues.iloc[:,20]\n",
    "X = list(X)\n",
    "t=0\n",
    "f=0\n",
    "for i in range(len(X)):\n",
    "    if((int(y[i][:4]) <= int(tse[:4])) and (int(y[i][5:7]) <= int(tse[5:7])) and (int(y[i][8:10]) <= int(tse[8:10])) and (int(y[i][11:13]) <= int(tse[11:13])) and (int(y[i][14:16]) <= int(tse[14:16])) and (int(y[i][17:19]) <= int(tse[17:19]))):\n",
    "        if(X[i]==True):\n",
    "            t+=1\n",
    "        else:\n",
    "            f+=1\n",
    "print(\"Number of new users is between {} and {} is {}\" .format(tsb,tse,f))"
   ]
  },
  {
   "cell_type": "code",
   "execution_count": null,
   "metadata": {},
   "outputs": [],
   "source": [
    "x = np.arange(2)\n",
    "usersDiscovered = [t,f]\n",
    "fig, ax = plt.subplots()\n",
    "plt.bar(x, money)\n",
    "plt.xticks(x, ('Old Users', 'New Users'))\n",
    "plt.title('Users from {} to {}'.format(tsb,tse))\n",
    "plt.show()"
   ]
  },
  {
   "cell_type": "markdown",
   "metadata": {},
   "source": [
    "### VISUALISATION 5"
   ]
  },
  {
   "cell_type": "code",
   "execution_count": null,
   "metadata": {},
   "outputs": [],
   "source": [
    "df = capacity[['CID','Na','Ns']]\n",
    "df = pd.DataFrame(df)\n",
    "x=0\n",
    "te=[]\n",
    "vacant=[]\n",
    "complete = []\n",
    "for index,row in df.iterrows():\n",
    "    for j in row:\n",
    "        if not(x==0):\n",
    "            te.append(j)\n",
    "        else:\n",
    "            c = j\n",
    "        x+=1\n",
    "    x=0 \n",
    "   diff = te[1]-te[0]\n",
    "    if(diff!=0):\n",
    "        te.append(c)\n",
    "        vacant.append(te)\n",
    "    else:        te.append(c)\n",
    "        complete.append(te)\n",
    "    te=[]\n",
    "print(len(vacant),len(complete))"
   ]
  },
  {
   "cell_type": "code",
   "execution_count": null,
   "metadata": {},
   "outputs": [],
   "source": [
    "x = np.arange(2)\n",
    "servedVsAvailable = [len(vacant),len(complete)]\n",
    "fig, ax = plt.subplots()\n",
    "plt.bar(x,servedVsAvailable)\n",
    "plt.xticks(x, ('Served Completely', 'Not Served Completely'))\n",
    "plt.title('Number of Categories which served Native ADs in all the slots available to it')\n",
    "plt.show()"
   ]
  }
 ],
 "metadata": {
  "kernelspec": {
   "display_name": "Python 3",
   "language": "python",
   "name": "python3"
  },
  "language_info": {
   "codemirror_mode": {
    "name": "ipython",
    "version": 3
   },
   "file_extension": ".py",
   "mimetype": "text/x-python",
   "name": "python",
   "nbconvert_exporter": "python",
   "pygments_lexer": "ipython3",
   "version": "3.6.5"
  }
 },
 "nbformat": 4,
 "nbformat_minor": 2
}
